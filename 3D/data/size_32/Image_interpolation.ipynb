{
 "cells": [
  {
   "cell_type": "code",
   "execution_count": 1,
   "metadata": {},
   "outputs": [],
   "source": [
    "import numpy as np\n",
    "import h5py\n",
    "import os\n",
    "import matplotlib.pyplot as plt\n",
    "import matplotlib \n",
    "matplotlib.rcParams['pdf.fonttype'] = 'truetype'\n",
    "fontProperties = {'family': 'serif', 'serif': ['Helvetica'], 'weight': 'normal', 'size': 12}\n",
    "plt.rc('font', **fontProperties)\n",
    "\n",
    "from matplotlib import gridspec\n",
    "from mpl_toolkits.axes_grid1 import make_axes_locatable\n",
    "import matplotlib.ticker as mtick\n",
    "from scipy.ndimage import zoom"
   ]
  },
  {
   "cell_type": "code",
   "execution_count": 2,
   "metadata": {},
   "outputs": [],
   "source": [
    "src_path = \"../size_64/n_element_2/density_n_element_2.h5\"\n",
    "with h5py.File(src_path, \"r\") as s:\n",
    "    src_densities = s[\"sample/densities\"][...]\n",
    "    src_elements = s[\"sample/elements\"][...]"
   ]
  },
  {
   "cell_type": "code",
   "execution_count": 3,
   "metadata": {},
   "outputs": [
    {
     "name": "stdout",
     "output_type": "stream",
     "text": [
      "[b'Ca' b'Sc']\n",
      "(2, 32, 32, 32)\n",
      "3.407375\n"
     ]
    }
   ],
   "source": [
    "trg_path = \"density_n_element_2.h5\"\n",
    "sample_height_n = 32\n",
    "sample_size_n = 32\n",
    "n = 2\n",
    "\n",
    "with h5py.File(trg_path, \"w\") as s:\n",
    "    sample = s.create_group(\"sample\")\n",
    "    sample_v = sample.create_dataset(\"densities\", shape=(n, sample_height_n, sample_size_n, sample_size_n), dtype=\"f4\")\n",
    "    sample_e = sample.create_dataset(\"elements\", shape=(n,), dtype='S5')\n",
    "    sample_e[...] = src_elements\n",
    "\n",
    "    \n",
    "with h5py.File(trg_path, \"r+\") as s:\n",
    "    trg_densities = s[\"sample/densities\"]\n",
    "    for element in range(n):\n",
    "        trg_densities[element] = zoom(src_densities[element], (0.5,0.5,0.5))\n",
    "        \n",
    "\n",
    "with h5py.File(trg_path, \"r\") as s:\n",
    "    grid = s[\"sample/densities\"][...]\n",
    "    elements = s[\"sample/elements\"][...]\n",
    "    print(elements)\n",
    "    \n",
    "print(grid.shape)\n",
    "layer_idx_ls = np.arange(0,32,8)\n",
    "image_size = grid.shape[-1]\n",
    "print(np.max(grid))"
   ]
  },
  {
   "cell_type": "code",
   "execution_count": 4,
   "metadata": {},
   "outputs": [
    {
     "data": {
      "image/png": "[encoded data removed]",
      "text/plain": [
       "<Figure size 460.8x691.2 with 16 Axes>"
      ]
     },
     "metadata": {
      "needs_background": "light"
     },
     "output_type": "display_data"
    }
   ],
   "source": [
    "fig6 = plt.figure(figsize=(4 * grid.shape[0] * 0.8 , 3 * len(layer_idx_ls) * 0.8))\n",
    "gs6 = gridspec.GridSpec(nrows= len(layer_idx_ls), ncols = grid.shape[0], width_ratios=[1] * grid.shape[0])\n",
    "\n",
    "for element_idx in range(grid.shape[0]):\n",
    "    for idx, layer_idx in enumerate(layer_idx_ls):\n",
    "        fig6_ax1 = fig6.add_subplot(gs6[idx, element_idx])\n",
    "        fig6_ax1.set_xticks(np.arange(0, image_size, 1))\n",
    "        fig6_ax1.set_yticks(np.arange(0, image_size, 1))\n",
    "        # fig6_ax1.grid(color='w', linewidth=2)\n",
    "        fig6_ax1.axis('off')\n",
    "        pos = fig6_ax1.imshow(grid[element_idx,layer_idx], cmap='jet', vmin=0, vmax=1.0, extent=[0, 64, 64, 0], origin='upper')\n",
    "        divider = make_axes_locatable(fig6_ax1)\n",
    "        cax = divider.append_axes(\"right\", size=\"5%\", pad=0.05)\n",
    "        ticks = np.arange(0,3.0,0.5)\n",
    "        cbar = fig6.colorbar(pos, cax=cax, ticks=ticks)\n",
    "        cbar.ax.tick_params(labelsize=14) \n",
    "        cbar.ax.set_title('intensity', size='14')"
   ]
  },
  {
   "cell_type": "code",
   "execution_count": null,
   "metadata": {},
   "outputs": [],
   "source": []
  },
  {
   "cell_type": "code",
   "execution_count": null,
   "metadata": {},
   "outputs": [],
   "source": []
  }
 ],
 "metadata": {
  "kernelspec": {
   "display_name": "Python 3",
   "language": "python",
   "name": "python3"
  },
  "language_info": {
   "codemirror_mode": {
    "name": "ipython",
    "version": 3
   },
   "file_extension": ".py",
   "mimetype": "text/x-python",
   "name": "python",
   "nbconvert_exporter": "python",
   "pygments_lexer": "ipython3",
   "version": "3.8.5"
  }
 },
 "nbformat": 4,
 "nbformat_minor": 4
}
