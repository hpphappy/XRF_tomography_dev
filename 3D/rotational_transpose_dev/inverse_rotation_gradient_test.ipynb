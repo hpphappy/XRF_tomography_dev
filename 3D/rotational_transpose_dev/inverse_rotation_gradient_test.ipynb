{
 "cells": [
  {
   "cell_type": "code",
   "execution_count": 120,
   "metadata": {},
   "outputs": [
    {
     "name": "stdout",
     "output_type": "stream",
     "text": [
      "The autoreload extension is already loaded. To reload it, use:\n",
      "  %reload_ext autoreload\n"
     ]
    }
   ],
   "source": [
    "%load_ext autoreload\n",
    "%autoreload 2\n",
    "import os\n",
    "import torch as tc\n",
    "import numpy as np\n",
    "import torch as tc\n",
    "tc.set_default_tensor_type(tc.FloatTensor)\n",
    "import torch.nn as nn\n",
    "import torch.nn.functional as F\n",
    "\n",
    "import matplotlib.pyplot as plt\n",
    "import matplotlib \n",
    "matplotlib.rcParams['pdf.fonttype'] = 'truetype'\n",
    "fontProperties = {'family': 'serif', 'serif': ['Helvetica'], 'weight': 'normal', 'size': 12}\n",
    "plt.rc('font', **fontProperties)\n",
    "from matplotlib import gridspec\n",
    "from mpl_toolkits.axes_grid1 import make_axes_locatable\n",
    "import matplotlib.ticker as mtick\n",
    "import dxchange\n",
    "\n",
    "import array_ops_test_gpu_rev_rot\n"
   ]
  },
  {
   "cell_type": "code",
   "execution_count": 121,
   "metadata": {},
   "outputs": [],
   "source": [
    "def get_cooridnates_stack_for_rotation(array_size, axis=0):\n",
    "    image_center = [(x - 1) / 2 for x in array_size]\n",
    "    coords_ls = []\n",
    "    for this_axis, s in enumerate(array_size):\n",
    "        if this_axis != axis:\n",
    "            coord = np.arange(s)\n",
    "            for i in range(len(array_size)):\n",
    "                if i != axis and i != this_axis:\n",
    "                    other_axis = i\n",
    "                    break\n",
    "            if other_axis < this_axis:\n",
    "                coord = np.tile(coord, array_size[other_axis])\n",
    "            else:\n",
    "                coord = np.repeat(coord, array_size[other_axis])\n",
    "            coords_ls.append(coord - image_center[i])\n",
    "    coord_new = np.stack(coords_ls)\n",
    "    return coord_new"
   ]
  },
  {
   "cell_type": "code",
   "execution_count": 122,
   "metadata": {},
   "outputs": [
    {
     "name": "stdout",
     "output_type": "stream",
     "text": [
      "[[-3.5 -3.5 -3.5 -3.5 -3.5 -3.5 -3.5 -3.5 -2.5 -2.5 -2.5 -2.5 -2.5 -2.5\n",
      "  -2.5 -2.5 -1.5 -1.5 -1.5 -1.5 -1.5 -1.5 -1.5 -1.5 -0.5 -0.5 -0.5 -0.5\n",
      "  -0.5 -0.5 -0.5 -0.5  0.5  0.5  0.5  0.5  0.5  0.5  0.5  0.5  1.5  1.5\n",
      "   1.5  1.5  1.5  1.5  1.5  1.5  2.5  2.5  2.5  2.5  2.5  2.5  2.5  2.5\n",
      "   3.5  3.5  3.5  3.5  3.5  3.5  3.5  3.5]\n",
      " [-3.5 -2.5 -1.5 -0.5  0.5  1.5  2.5  3.5 -3.5 -2.5 -1.5 -0.5  0.5  1.5\n",
      "   2.5  3.5 -3.5 -2.5 -1.5 -0.5  0.5  1.5  2.5  3.5 -3.5 -2.5 -1.5 -0.5\n",
      "   0.5  1.5  2.5  3.5 -3.5 -2.5 -1.5 -0.5  0.5  1.5  2.5  3.5 -3.5 -2.5\n",
      "  -1.5 -0.5  0.5  1.5  2.5  3.5 -3.5 -2.5 -1.5 -0.5  0.5  1.5  2.5  3.5\n",
      "  -3.5 -2.5 -1.5 -0.5  0.5  1.5  2.5  3.5]]\n"
     ]
    }
   ],
   "source": [
    "array_size = [8,8,8]\n",
    "coord_new = get_cooridnates_stack_for_rotation(array_size)\n",
    "print(coord_new)"
   ]
  },
  {
   "cell_type": "code",
   "execution_count": 123,
   "metadata": {},
   "outputs": [],
   "source": [
    "def calculate_original_coordinates_for_rotation(array_size, coord_new, theta, dev=None):\n",
    "    image_center = [(x - 1) / 2 for x in array_size]\n",
    "    m0 = tc.tensor([tc.cos(theta), -tc.sin(theta)], device=dev)\n",
    "    m1 = tc.tensor([tc.sin(theta), tc.cos(theta)], device=dev)\n",
    "    m_rot = tc.stack([m0, m1])\n",
    "\n",
    "    coord_old = tc.matmul(m_rot, coord_new)\n",
    "    coord1_old = coord_old[0, :] + image_center[1]\n",
    "    coord2_old = coord_old[1, :] + image_center[2]\n",
    "    coord_old = np.stack([coord1_old, coord2_old], axis=1)\n",
    "    return coord_old"
   ]
  },
  {
   "cell_type": "code",
   "execution_count": 124,
   "metadata": {},
   "outputs": [
    {
     "name": "stdout",
     "output_type": "stream",
     "text": [
      "torch.Size([2, 64])\n",
      "(64, 2)\n"
     ]
    }
   ],
   "source": [
    "theta = tc.tensor(1.0)\n",
    "array_size = [8,8,8]\n",
    "coord_new = tc.from_numpy(get_cooridnates_stack_for_rotation(array_size, axis=0).astype(np.float32))\n",
    "print(coord_new.shape)\n",
    "coord_old = calculate_original_coordinates_for_rotation(array_size, coord_new, theta)\n",
    "print(coord_old.shape)"
   ]
  },
  {
   "cell_type": "code",
   "execution_count": 125,
   "metadata": {},
   "outputs": [],
   "source": [
    "def save_rotation_lookup(array_size, theta_ls, dest_folder=None):\n",
    "\n",
    "    # create matrix of coordinates\n",
    "    coord_new = tc.from_numpy(get_cooridnates_stack_for_rotation(array_size, axis=0).astype(np.float32))\n",
    "\n",
    "    n_theta = len(theta_ls)\n",
    "    if dest_folder is None:\n",
    "        dest_folder = 'arrsize_{}_{}_{}_ntheta_{}'.format(array_size[0], array_size[1], array_size[2], n_theta)\n",
    "    if not os.path.exists(dest_folder):\n",
    "        os.mkdir(dest_folder)\n",
    "    for i, theta in enumerate(theta_ls):  #changed from theta_ls[rank:n_theta:n_ranks]\n",
    "        coord_old = calculate_original_coordinates_for_rotation(array_size, coord_new, theta)\n",
    "        coord_inv = calculate_original_coordinates_for_rotation(array_size, coord_new, -theta)\n",
    "        # coord_old_ls are the coordinates in original (0-deg) object frame at each angle, corresponding to each\n",
    "        # voxel in the object at that angle.\n",
    "        np.save(os.path.join(dest_folder, '{:.5f}'.format(theta)), coord_old.astype('float16'))\n",
    "        np.save(os.path.join(dest_folder, '_{:.5f}'.format(theta)), coord_inv.astype('float16'))\n",
    "    return None"
   ]
  },
  {
   "cell_type": "code",
   "execution_count": 126,
   "metadata": {},
   "outputs": [],
   "source": [
    "dev= \"cpu\"\n",
    "rank = 1\n",
    "n_ranks = 4\n",
    "array_size = [8,8,8]\n",
    "theta_ls = tc.tensor([0.,1.,2.])\n",
    "save_rotation_lookup(array_size, theta_ls, \"rotation_look_up\")"
   ]
  },
  {
   "cell_type": "code",
   "execution_count": 127,
   "metadata": {},
   "outputs": [],
   "source": [
    "def read_origin_coords(src_folder, theta, reverse=False):\n",
    "\n",
    "    if not reverse:\n",
    "        coords = np.load(os.path.join(src_folder, '{:.5f}.npy'.format(theta)), allow_pickle=True)\n",
    "    else:\n",
    "        coords = np.load(os.path.join(src_folder, '_{:.5f}.npy'.format(theta)), allow_pickle=True)\n",
    "    return coords"
   ]
  },
  {
   "cell_type": "code",
   "execution_count": 128,
   "metadata": {},
   "outputs": [
    {
     "name": "stdout",
     "output_type": "stream",
     "text": [
      "(64, 2)\n"
     ]
    }
   ],
   "source": [
    "coords = read_origin_coords(\"rotation_look_up\", 1.)\n",
    "print(coords.shape)"
   ]
  },
  {
   "cell_type": "code",
   "execution_count": 133,
   "metadata": {},
   "outputs": [],
   "source": [
    "def apply_rotation_transpose(obj, coord_old, interpolation='bilinear', axis=0, device=None):\n",
    "    \"\"\"\n",
    "    Find the result of applying the transpose of the rotation-interpolation matrix defined by coord_old. Used to\n",
    "    calculate the VJP of rotation operation.\n",
    "    :param obj: Tensor.\n",
    "    :param coord_old: The same variable as is passed to apply_rotation.\n",
    "    \"\"\"\n",
    "    obj = obj.permute(1,2,3,0)\n",
    "    s = obj.shape\n",
    "    axes_rot = []\n",
    "    for i in range(len(obj.shape)):\n",
    "        if i != axis and i <= 2:\n",
    "            axes_rot.append(i)\n",
    "\n",
    "    coord_old_1 = coord_old[:, 0]\n",
    "    coord_old_2 = coord_old[:, 1]\n",
    "\n",
    "    # Clip coords, so that edge values are used for out-of-array indices\n",
    "    coord_old_1 = tc.clamp(coord_old_1, 0, s[axes_rot[0]] - 1)\n",
    "    coord_old_2 = tc.clamp(coord_old_2, 0, s[axes_rot[1]] - 1)\n",
    "\n",
    "    coord_old_floor_1 = tc.floor(coord_old_1).type(tc.int64)\n",
    "    coord_old_ceil_1 = coord_old_floor_1 + 1\n",
    "    coord_old_floor_2 = tc.floor(coord_old_2).type(tc.int64)\n",
    "    coord_old_ceil_2 = coord_old_floor_2 + 1\n",
    "\n",
    "    obj_rot = tc.zeros_like(obj, requires_grad=False)\n",
    "    fac_ff = (coord_old_ceil_1 - coord_old_1) * (coord_old_ceil_2 - coord_old_2)\n",
    "    fac_fc = (coord_old_ceil_1 - coord_old_1) * (coord_old_2 - coord_old_floor_2)\n",
    "    fac_cf = (coord_old_1 - coord_old_floor_1) * (coord_old_ceil_2 - coord_old_2)\n",
    "    fac_cc = (coord_old_1 - coord_old_floor_1) * (coord_old_2 - coord_old_floor_2)\n",
    "    print(fac_cc.shape)\n",
    "    \n",
    "    fac_ff = tc.stack([fac_ff] * s[-1], axis=1)\n",
    "    fac_fc = tc.stack([fac_fc] * s[-1], axis=1)\n",
    "    fac_cf = tc.stack([fac_cf] * s[-1], axis=1)\n",
    "    fac_cc = tc.stack([fac_cc] * s[-1], axis=1)\n",
    "    print(fac_cc.shape)\n",
    "    \n",
    "    for i_slice in range(s[axis]):\n",
    "        slicer_ff = [i_slice, i_slice, i_slice]\n",
    "        slicer_ff[axes_rot[0]] = coord_old_floor_1\n",
    "        slicer_ff[axes_rot[1]] = coord_old_floor_2\n",
    "        \n",
    "        slicer_fc = [i_slice, i_slice, i_slice]\n",
    "        slicer_fc[axes_rot[0]] = coord_old_floor_1\n",
    "        slicer_fc[axes_rot[1]] = tc.clamp(coord_old_ceil_2, 0, s[axes_rot[1]] - 1)\n",
    "        \n",
    "        slicer_cf = [i_slice, i_slice, i_slice]\n",
    "        slicer_cf[axes_rot[0]] = tc.clamp(coord_old_ceil_1, 0, s[axes_rot[0]] - 1)\n",
    "        slicer_cf[axes_rot[1]] = coord_old_floor_2\n",
    "        \n",
    "        slicer_cc = [i_slice, i_slice, i_slice]\n",
    "        slicer_cc[axes_rot[0]] = tc.clamp(coord_old_ceil_1, 0, s[axes_rot[0]] - 1)\n",
    "        slicer_cc[axes_rot[1]] = tc.clamp(coord_old_ceil_2, 0, s[axes_rot[1]] - 1)\n",
    "\n",
    "        slicer_obj = [slice(None), slice(None), slice(None)]\n",
    "        slicer_obj[axis] = i_slice\n",
    "        print(slicer_obj)\n",
    "        obj_slice = tc.reshape(obj[slicer_obj], [-1, s[-1]])  # originally: [-1,2]\n",
    "        obj_rot[tuple(slicer_ff)] += obj_slice * fac_ff\n",
    "        obj_rot[tuple(slicer_fc)] += obj_slice * fac_fc\n",
    "        obj_rot[tuple(slicer_cf)] += obj_slice * fac_cf\n",
    "        obj_rot[tuple(slicer_cc)] += obj_slice * fac_cc\n",
    "        \n",
    "    obj = obj.permute(3,0,1,2)\n",
    "    return obj_rot"
   ]
  },
  {
   "cell_type": "code",
   "execution_count": 134,
   "metadata": {},
   "outputs": [],
   "source": [
    "obj = tc.ones(3,8,8,8)\n",
    "coord_old = tc.from_numpy(read_origin_coords(\"rotation_look_up\", 1.0, reverse=True)).type(tc.float)\n",
    "device = \"cpu\""
   ]
  },
  {
   "cell_type": "code",
   "execution_count": 135,
   "metadata": {},
   "outputs": [
    {
     "name": "stdout",
     "output_type": "stream",
     "text": [
      "torch.Size([64])\n",
      "torch.Size([64, 3])\n",
      "[0, slice(None, None, None), slice(None, None, None)]\n",
      "[1, slice(None, None, None), slice(None, None, None)]\n",
      "[2, slice(None, None, None), slice(None, None, None)]\n",
      "[3, slice(None, None, None), slice(None, None, None)]\n",
      "[4, slice(None, None, None), slice(None, None, None)]\n",
      "[5, slice(None, None, None), slice(None, None, None)]\n",
      "[6, slice(None, None, None), slice(None, None, None)]\n",
      "[7, slice(None, None, None), slice(None, None, None)]\n"
     ]
    }
   ],
   "source": [
    "obj_rot = apply_rotation_transpose(obj, coord_old, interpolation='bilinear', axis=0, device=None)"
   ]
  },
  {
   "cell_type": "code",
   "execution_count": null,
   "metadata": {},
   "outputs": [],
   "source": []
  }
 ],
 "metadata": {
  "kernelspec": {
   "display_name": "Python 3",
   "language": "python",
   "name": "python3"
  },
  "language_info": {
   "codemirror_mode": {
    "name": "ipython",
    "version": 3
   },
   "file_extension": ".py",
   "mimetype": "text/x-python",
   "name": "python",
   "nbconvert_exporter": "python",
   "pygments_lexer": "ipython3",
   "version": "3.7.7"
  }
 },
 "nbformat": 4,
 "nbformat_minor": 4
}
