{
 "cells": [
  {
   "cell_type": "code",
   "execution_count": 1,
   "metadata": {},
   "outputs": [],
   "source": [
    "import numpy as np\n",
    "from numpy.random import default_rng\n",
    "import xraylib as xlib\n",
    "import xraylib_np as xlib_np\n",
    "import torch as tc\n",
    "import torch.nn.functional as F\n",
    "import torch.nn as nn\n",
    "import os\n",
    "from tqdm import tqdm\n",
    "import pickle\n",
    "import h5py\n",
    "import sys\n",
    "\n",
    "import matplotlib.pyplot as plt\n",
    "import matplotlib \n",
    "matplotlib.rcParams['pdf.fonttype'] = 'truetype'\n",
    "fontProperties = {'family': 'serif', 'serif': ['Helvetica'], 'weight': 'normal', 'size': 12}\n",
    "plt.rc('font', **fontProperties)\n",
    "\n",
    "from matplotlib import gridspec\n",
    "from mpl_toolkits.axes_grid1 import make_axes_locatable\n",
    "import matplotlib.ticker as mtick\n",
    "from mpl_toolkits.axes_grid1.anchored_artists import AnchoredSizeBar\n",
    "import matplotlib.font_manager as fm\n",
    "\n",
    "from Atomic_number import AN"
   ]
  },
  {
   "cell_type": "code",
   "execution_count": 9,
   "metadata": {},
   "outputs": [],
   "source": [
    "recon_path = \"./data/Xtal1_align1_adjusted3_ds4_recon/Ab_F_nEl_1_nDpts_4_b_0.0_lr_1.0E-3_nEpoch_160/Si\"\n",
    "f_recon_parameters =  'recon_parameters.txt'\n",
    "with open(os.path.join(recon_path, f_recon_parameters), \"r\") as recon_params:\n",
    "    params_list = []\n",
    "    for line in recon_params.readlines():\n",
    "        params_list.append(line.rstrip(\"\\n\"))\n",
    "    n_ending = len(params_list)\n",
    "\n",
    "with open(os.path.join(recon_path, f_recon_parameters), \"a\") as recon_params:\n",
    "    n_start_last = n_ending - 22 +3\n",
    "\n",
    "    previsous_starting_epoch = int(params_list[n_start_last][params_list[n_start_last].find(\"=\")+1:])\n",
    "    previous_n_epoch = int(params_list[n_start_last+1][params_list[n_start_last+1].find(\"=\")+1:])"
   ]
  },
  {
   "cell_type": "code",
   "execution_count": 10,
   "metadata": {},
   "outputs": [
    {
     "name": "stdout",
     "output_type": "stream",
     "text": [
      "0\n",
      "0\n",
      "80\n"
     ]
    }
   ],
   "source": [
    "print(n_start_last)\n",
    "print(previsous_starting_epoch)\n",
    "print(previous_n_epoch)"
   ]
  },
  {
   "cell_type": "code",
   "execution_count": 3,
   "metadata": {},
   "outputs": [
    {
     "name": "stdout",
     "output_type": "stream",
     "text": [
      "2\n"
     ]
    }
   ],
   "source": [
    "a = np.array([[1,2,3],[4,5,6]])\n",
    "print(len(a))"
   ]
  },
  {
   "cell_type": "code",
   "execution_count": 2,
   "metadata": {},
   "outputs": [],
   "source": [
    "# fl_K = np.array([xlib.KA1_LINE, xlib.KA2_LINE, xlib.KA3_LINE, xlib.KB1_LINE, xlib.KB2_LINE,\n",
    "#                  xlib.KB3_LINE, xlib.KB4_LINE, xlib.KB5_LINE])\n",
    "\n",
    "# fl_L = np.array([xlib.LA1_LINE, xlib.LA2_LINE, xlib.LB1_LINE, xlib.LB2_LINE, xlib.LB3_LINE,\n",
    "#                  xlib.LB4_LINE, xlib.LB5_LINE, xlib.LB6_LINE, xlib.LB7_LINE, xlib.LB9_LINE,\n",
    "#                  xlib.LB10_LINE, xlib.LB15_LINE, xlib.LB17_LINE])\n",
    "\n",
    "# fl_M = np.array([xlib.MA1_LINE, xlib.MA2_LINE, xlib.MB_LINE])\n",
    "\n",
    "# fl_line_groups = np.array([\"K\", \"L\", \"M\"])\n",
    "# group_lines = True\n",
    "# dev = \"cpu\""
   ]
  },
  {
   "cell_type": "code",
   "execution_count": 2,
   "metadata": {},
   "outputs": [],
   "source": [
    "fl = {\"K\": np.array([xlib.KA1_LINE, xlib.KA2_LINE, xlib.KA3_LINE, xlib.KB1_LINE, xlib.KB2_LINE,\n",
    "                 xlib.KB3_LINE, xlib.KB4_LINE, xlib.KB5_LINE]),\n",
    "      \"L\": np.array([xlib.LA1_LINE, xlib.LA2_LINE, xlib.LB1_LINE, xlib.LB2_LINE, xlib.LB3_LINE,\n",
    "                 xlib.LB4_LINE, xlib.LB5_LINE, xlib.LB6_LINE, xlib.LB7_LINE, xlib.LB9_LINE,\n",
    "                 xlib.LB10_LINE, xlib.LB15_LINE, xlib.LB17_LINE]),              \n",
    "      \"M\": np.array([xlib.MA1_LINE, xlib.MA2_LINE, xlib.MB_LINE])               \n",
    "     }\n",
    "\n",
    "fl_line_groups = np.array([\"K\", \"L\", \"M\"])\n",
    "group_lines = True\n",
    "dev = \"cpu\""
   ]
  },
  {
   "cell_type": "code",
   "execution_count": 9,
   "metadata": {},
   "outputs": [],
   "source": [
    "def MakeFLlinesDictionary(this_aN_dic, probe_energy,\n",
    "                          sample_size_n, sample_size_cm,\n",
    "                          fl_line_groups = np.array([\"K\", \"L\", \"M\"]), fl_K = fl[\"K\"], fl_L = fl[\"L\"], fl_M = fl[\"M\"],\n",
    "                          group_lines = True):\n",
    "\n",
    "\n",
    "    element_ls = np.array(list(this_aN_dic.keys()))\n",
    "    aN_ls = np.array(list(this_aN_dic.values()))\n",
    "\n",
    "    n_line_group = len(fl_line_groups)\n",
    "    FL_all_elements_dic = {\"element_Line\": [], \"fl_energy\": np.array([]), \"detected_fl_unit_concentration\": np.array([])}\n",
    "    voxel_size = sample_size_cm/sample_size_n   \n",
    "\n",
    "    fl_cs_K = xlib_np.CS_FluorLine_Kissel_Cascade(aN_ls, fl_K, probe_energy)\n",
    "    fl_cs_L = xlib_np.CS_FluorLine_Kissel_Cascade(aN_ls, fl_L, probe_energy)\n",
    "    fl_cs_M = xlib_np.CS_FluorLine_Kissel_Cascade(aN_ls, fl_M, probe_energy)\n",
    "\n",
    "    # Remove the extra dimension with only 1 element\n",
    "    fl_cs_K = np.reshape(fl_cs_K, (fl_cs_K.shape[:-1]))\n",
    "    fl_cs_L = np.reshape(fl_cs_L, (fl_cs_L.shape[:-1]))\n",
    "    fl_cs_M = np.reshape(fl_cs_M, (fl_cs_M.shape[:-1]))\n",
    "\n",
    "    fl_energy_K = xlib_np.LineEnergy(aN_ls, fl_K)\n",
    "    fl_energy_L = xlib_np.LineEnergy(aN_ls, fl_L)\n",
    "    fl_energy_M = xlib_np.LineEnergy(aN_ls, fl_M)\n",
    "\n",
    "    FL_all_elements_dic = {\"(element_name, Line)\": [], \"fl_energy\": np.array([]), \"detected_fl_unit_concentration\": np.array([]),\n",
    "                           \"n_line_group_each_element\": np.array([]), \"n_lines\": None}\n",
    "    if group_lines == True:\n",
    "        fl_energy_group = np.zeros((len(element_ls),n_line_group))\n",
    "        fl_cs_group = np.zeros((len(element_ls),n_line_group))\n",
    "        \n",
    "        for i, element_name in enumerate(element_ls): \n",
    "\n",
    "            if np.sum(fl_cs_K[i] != 0):\n",
    "                fl_energy_group[i,0] = np.average(fl_energy_K[i], weights=fl_cs_K[i]) \n",
    "                fl_cs_group[i,0] = np.sum(fl_cs_K[i])\n",
    "            else:\n",
    "                fl_energy_group[i,0] = 0\n",
    "                fl_cs_group[i,0] = 0\n",
    "\n",
    "            if np.sum(fl_cs_L[i] != 0):\n",
    "                fl_energy_group[i,1] = np.average(fl_energy_L[i], weights=fl_cs_L[i]) \n",
    "                fl_cs_group[i,1] = np.sum(fl_cs_L[i])\n",
    "            else:\n",
    "                fl_energy_group[i,1] = 0\n",
    "                fl_cs_group[i,1] = 0\n",
    "\n",
    "            if np.sum(fl_cs_M[i] != 0):\n",
    "                fl_energy_group[i,2] = np.average(fl_energy_M[i], weights=fl_cs_M[i]) \n",
    "                fl_cs_group[i,2] = np.sum(fl_cs_M[i])\n",
    "            else:\n",
    "                fl_energy_group[i,2] = 0\n",
    "                fl_cs_group[i,2] = 0\n",
    "\n",
    "            element_Line = fl_line_groups[fl_energy_group[i]!= 0]\n",
    "            element_Line = [[element_name, element_Line[j]] for j in range(len(element_Line))]\n",
    "            for k in range(len(element_Line)):\n",
    "                FL_all_elements_dic[\"(element_name, Line)\"].append(element_Line[k])     \n",
    "\n",
    "            Line_energy = fl_energy_group[i][fl_energy_group[i]!=0]\n",
    "            FL_all_elements_dic[\"fl_energy\"] = np.append(FL_all_elements_dic[\"fl_energy\"], Line_energy)\n",
    "#             fl_unit_con = fl_cs_group[i][fl_energy_group[i]!=0] * voxel_size\n",
    "            fl_unit_con = fl_cs_group[i][fl_energy_group[i]!=0]\n",
    "            FL_all_elements_dic[\"detected_fl_unit_concentration\"] = np.append(FL_all_elements_dic[\"detected_fl_unit_concentration\"], fl_unit_con)\n",
    "            FL_all_elements_dic[\"n_line_group_each_element\"] = np.append(FL_all_elements_dic[\"n_line_group_each_element\"], len(fl_unit_con))\n",
    "            \n",
    "        FL_all_elements_dic[\"(element_name, Line)\"] = np.array(FL_all_elements_dic[\"(element_name, Line)\"])\n",
    "    \n",
    "    FL_all_elements_dic[\"n_lines\"] = len(FL_all_elements_dic[\"(element_name, Line)\"])\n",
    "    return FL_all_elements_dic"
   ]
  },
  {
   "cell_type": "code",
   "execution_count": 10,
   "metadata": {},
   "outputs": [],
   "source": [
    "this_aN_dic = {\"Al\": 13, \"Si\": 14, \"Fe\": 26, \"Cu\": 29}\n",
    "probe_energy = np.array([10.0])\n",
    "sample_size_n = tc.tensor(44).to(dev)\n",
    "sample_size_cm = tc.tensor(0.007).to(dev)\n",
    "\n",
    "FL_dic = MakeFLlinesDictionary(this_aN_dic, probe_energy,\n",
    "                          sample_size_n.cpu().numpy(), sample_size_cm.cpu().numpy(),\n",
    "                          fl_line_groups = np.array([\"K\", \"L\", \"M\"]), fl_K = fl[\"K\"], fl_L = fl[\"L\"], fl_M = fl[\"M\"],\n",
    "                          group_lines = True)"
   ]
  },
  {
   "cell_type": "code",
   "execution_count": 11,
   "metadata": {},
   "outputs": [
    {
     "data": {
      "text/plain": [
       "{'(element_name, Line)': array([['Al', 'K'],\n",
       "        ['Al', 'L'],\n",
       "        ['Si', 'K'],\n",
       "        ['Si', 'L'],\n",
       "        ['Fe', 'K'],\n",
       "        ['Fe', 'L'],\n",
       "        ['Cu', 'K'],\n",
       "        ['Cu', 'L']], dtype='<U2'),\n",
       " 'fl_energy': array([1.48761179, 0.11201015, 1.74239384, 0.1456011 , 6.47749773,\n",
       "        0.70728851, 8.14307424, 0.93580453]),\n",
       " 'detected_fl_unit_concentration': array([9.21124426e-01, 3.00607035e-05, 1.54604868e+00, 1.42150704e-04,\n",
       "        5.29127742e+01, 1.16098019e+00, 8.49616231e+01, 2.45973171e+00]),\n",
       " 'n_line_group_each_element': array([2., 2., 2., 2.]),\n",
       " 'n_lines': 8}"
      ]
     },
     "execution_count": 11,
     "metadata": {},
     "output_type": "execute_result"
    }
   ],
   "source": [
    "FL_dic"
   ]
  },
  {
   "cell_type": "code",
   "execution_count": 92,
   "metadata": {},
   "outputs": [],
   "source": [
    "this_aN_dic = {\"Al\": 13, \"Si\": 14, \"Cr\": 24, \"Cu\": 29}\n",
    "element_lines_roi = np.array([['Al', 'K'], ['Si', 'K'], ['Fe', 'K'], ['Cu', 'K']])\n",
    "n_line_group_each_element = np.array([1, 1, 1, 1])\n",
    "channel_names = 'exchange/elements' \n",
    "probe_energy = np.array([10.0])\n",
    "sample_size_n = 176\n",
    "sample_size_cm = 0.007\n",
    "data_path = './data/Xtal1_align1_adjusted1_ds1'\n",
    "f_XRF_data = 'xtal1_xrf-roi-plus'\n",
    "channel_names = 'exchange/elements' \n",
    "fl_K = fl[\"K\"]\n",
    "fl_L = fl[\"L\"]\n",
    "fl_M = fl[\"M\"]\n",
    "aN_ls = np.array(list(this_aN_dic.values()))"
   ]
  },
  {
   "cell_type": "code",
   "execution_count": 93,
   "metadata": {},
   "outputs": [],
   "source": [
    "def find_lines_roi_idx_from_dataset(data_path, f_XRF_data, element_lines_roi):\n",
    "    XRF_data = h5py.File(os.path.join(data_path, f_XRF_data), 'r')\n",
    "    channel_names = XRF_data['exchange/elements'][...]\n",
    "    channel_names = np.array([str(channel_name, 'utf-8') for channel_name in channel_names])\n",
    "\n",
    "    element_lines_roi_idx = np.zeros(len(element_lines_roi)).astype(np.int)\n",
    "    for i, element_line_roi in enumerate(element_lines_roi):\n",
    "        if element_line_roi[1] == \"K\":\n",
    "            channel_name_roi = element_line_roi[0]\n",
    "        else:\n",
    "            channel_name_roi = element_line_roi[0] + \"_\" + element_line_roi[1]\n",
    "        element_line_idx = np.argwhere(channel_names == channel_name_roi)\n",
    "        element_lines_roi_idx[i] = element_line_idx\n",
    "\n",
    "    return element_lines_roi_idx    "
   ]
  },
  {
   "cell_type": "code",
   "execution_count": 94,
   "metadata": {},
   "outputs": [
    {
     "name": "stdout",
     "output_type": "stream",
     "text": [
      "[ 0  1 11 14]\n"
     ]
    }
   ],
   "source": [
    "element_lines_roi_idx = find_lines_roi_idx_from_dataset(data_path, f_XRF_data, element_lines_roi)\n",
    "print(element_lines_roi_idx)"
   ]
  },
  {
   "cell_type": "code",
   "execution_count": 104,
   "metadata": {},
   "outputs": [],
   "source": [
    "def MakeFLlinesDictionary_manual(element_lines_roi,                           \n",
    "                                 n_line_group_each_element, probe_energy, \n",
    "                                 sample_size_n, sample_size_cm,\n",
    "                                 fl_line_groups = np.array([\"K\", \"L\", \"M\"]), fl_K = fl[\"K\"], fl_L = fl[\"L\"], fl_M = fl[\"M\"]):\n",
    "\n",
    "\n",
    "    FL_all_elements_dic = {\"(element_name, Line)\": [], \"fl_energy\": np.array([]), \"detected_fl_unit_concentration\": np.array([]),\n",
    "                           \"n_line_group_each_element\": np.array([]), \"n_lines\": None}\n",
    "\n",
    "    FL_all_elements_dic[\"(element_name, Line)\"] = element_lines_roi\n",
    "    FL_all_elements_dic[\"n_line_group_each_element\"] = n_line_group_each_element\n",
    "    FL_all_elements_dic[\"n_lines\"] = len(element_lines_roi)\n",
    "\n",
    "    voxel_size = sample_size_cm/sample_size_n   \n",
    "\n",
    "    for i, element_line_roi in enumerate(element_lines_roi):\n",
    "        fl_energy = xlib_np.LineEnergy(np.array([AN[element_line_roi[0]]]), fl[element_line_roi[1]]).flatten()\n",
    "        fl_cs = xlib_np.CS_FluorLine_Kissel_Cascade(np.array([AN[element_line_roi[0]]]), fl[element_line_roi[1]], probe_energy).flatten()\n",
    "\n",
    "        if np.sum(fl_cs) != 0:\n",
    "            fl_energy_group = np.average(fl_energy, weights=fl_cs) \n",
    "            fl_cs_group = np.sum(fl_cs)\n",
    "        else:\n",
    "            fl_energy_group = 0.\n",
    "            fl_cs_group = 0.\n",
    "\n",
    "        FL_all_elements_dic[\"fl_energy\"] = np.append(FL_all_elements_dic[\"fl_energy\"], fl_energy_group)\n",
    "#         fl_unit_con = fl_cs_group * voxel_size\n",
    "        fl_unit_con = fl_cs_group\n",
    "        FL_all_elements_dic[\"detected_fl_unit_concentration\"] = np.append(FL_all_elements_dic[\"detected_fl_unit_concentration\"], fl_unit_con)   \n",
    "        \n",
    "    return FL_all_elements_dic"
   ]
  },
  {
   "cell_type": "code",
   "execution_count": 105,
   "metadata": {},
   "outputs": [],
   "source": [
    "FL_dic = MakeFLlinesDictionary_manual(element_lines_roi,                           \n",
    "                                 n_line_group_each_element, probe_energy, \n",
    "                                 sample_size_n, sample_size_cm,\n",
    "                                 fl_line_groups = np.array([\"K\", \"L\", \"M\"]), fl_K = fl[\"K\"], fl_L = fl[\"L\"], fl_M = fl[\"M\"])"
   ]
  },
  {
   "cell_type": "code",
   "execution_count": 106,
   "metadata": {},
   "outputs": [
    {
     "data": {
      "text/plain": [
       "{'(element_name, Line)': array([['Al', 'K'],\n",
       "        ['Si', 'K'],\n",
       "        ['Fe', 'K'],\n",
       "        ['Cu', 'K']], dtype='<U2'),\n",
       " 'fl_energy': array([1.48761179, 1.74239384, 6.47749773, 8.14307424]),\n",
       " 'detected_fl_unit_concentration': array([ 0.92112443,  1.54604868, 52.91277416, 84.9616231 ]),\n",
       " 'n_line_group_each_element': array([1, 1, 1, 1]),\n",
       " 'n_lines': 4}"
      ]
     },
     "execution_count": 106,
     "metadata": {},
     "output_type": "execute_result"
    }
   ],
   "source": [
    "FL_dic\n",
    "# print(len(FL_dic))"
   ]
  },
  {
   "cell_type": "code",
   "execution_count": 103,
   "metadata": {},
   "outputs": [
    {
     "name": "stdout",
     "output_type": "stream",
     "text": [
      "torch.Size([1, 4])\n"
     ]
    }
   ],
   "source": [
    "FL_line_attCS_ls = tc.as_tensor(xlib_np.CS_Total(np.array([13]), FL_dic[\"fl_energy\"]))\n",
    "print(FL_line_attCS_ls.shape)"
   ]
  },
  {
   "cell_type": "code",
   "execution_count": 7,
   "metadata": {},
   "outputs": [
    {
     "data": {
      "text/plain": [
       "(array([ 9.,  5., 13., 31., 14., 14., 11.,  1.,  1.,  1.]),\n",
       " array([ 0. ,  1.3,  2.6,  3.9,  5.2,  6.5,  7.8,  9.1, 10.4, 11.7, 13. ]),\n",
       " <a list of 10 Patch objects>)"
      ]
     },
     "execution_count": 7,
     "metadata": {},
     "output_type": "execute_result"
    },
    {
     "name": "stderr",
     "output_type": "stream",
     "text": [
      "findfont: Font family ['serif'] not found. Falling back to DejaVu Sans.\n"
     ]
    },
    {
     "data": {
      "image/png": "[encoded data removed]",
      "text/plain": [
       "<Figure size 432x288 with 1 Axes>"
      ]
     },
     "metadata": {
      "needs_background": "light"
     },
     "output_type": "display_data"
    }
   ],
   "source": [
    "a = default_rng()\n",
    "a_noise = a.poisson(5 * np.ones(100))\n",
    "plt.hist(a_noise)"
   ]
  },
  {
   "cell_type": "code",
   "execution_count": 68,
   "metadata": {},
   "outputs": [
    {
     "name": "stdout",
     "output_type": "stream",
     "text": [
      "(5, 3, 28835840)\n"
     ]
    }
   ],
   "source": [
    "f = h5py.File('data/P_array/sample_64_64_64/detSpacing_0.4_dpts_5/backup4/Intersecting_Length_64_64_64.h5', 'r')\n",
    "f_data_array = np.array(f['P_array'][...])\n",
    "print(f_data_array.shape)"
   ]
  },
  {
   "cell_type": "code",
   "execution_count": 69,
   "metadata": {},
   "outputs": [],
   "source": [
    "# f_data_array = np.load('data/P_array/sample_64_64_64/detSpacing_0.4_dpts_5/backup/Intersecting_Length_64_64_64.npy')\n",
    "# print(f_data_array.shape)"
   ]
  },
  {
   "cell_type": "code",
   "execution_count": 5,
   "metadata": {},
   "outputs": [],
   "source": [
    "def rotate(arr, theta, dev):\n",
    "    \"\"\"\n",
    "    This function rotates the grid concentration with dimension: (n_element, sample_height_n, sample_size_n, sample_size_n)\n",
    "    The rotational axis is along dim 1 of the grid\n",
    "    \n",
    "    Parameters\n",
    "    ----------\n",
    "    arr : torch tensor\n",
    "        grid concentration\n",
    "        \n",
    "    theta : float\n",
    "        rotation angle in radians (clockwise)\n",
    "    \n",
    "    dev : string\n",
    "        specify \"cpu\" or the cuda diveice (ex: cuda:0)\n",
    "\n",
    "\n",
    "    Returns\n",
    "    -------\n",
    "    q : torch tensor\n",
    "        the rotated grid concentration\n",
    "\n",
    "    \"\"\"\n",
    "    \n",
    "    m0 = tc.tensor([tc.cos(theta), -tc.sin(theta), 0.0], device=dev)\n",
    "    m1 = tc.tensor([tc.sin(theta), tc.cos(theta), 0.0], device=dev)\n",
    "    m = tc.stack([m0, m1]).view(1, 2, 3)\n",
    "    m = m.repeat([arr.shape[0], 1, 1])\n",
    "    \n",
    "    g = F.affine_grid(m, arr.shape)\n",
    "    q = F.grid_sample(arr, g, padding_mode='border')\n",
    "    \n",
    "    return q\n"
   ]
  },
  {
   "cell_type": "code",
   "execution_count": 6,
   "metadata": {},
   "outputs": [],
   "source": [
    "def attenuation_3d(src_path, theta_st, theta_end, n_theta, sample_height_n, sample_size_n,\n",
    "                sample_size_cm, this_aN_dic, probe_energy, dev):\n",
    " \n",
    "    \n",
    "    n_element = len(this_aN_dic)\n",
    "    theta_ls = - tc.linspace(theta_st, theta_end, n_theta + 1)[:-1]\n",
    "    grid_concentration = tc.tensor(np.load(src_path)).float().to(dev)\n",
    "    aN_ls = np.array(list(this_aN_dic.values()))\n",
    "    probe_attCS_ls = tc.tensor(xlib_np.CS_Total(aN_ls, probe_energy).flatten()).float().to(dev)\n",
    "    \n",
    "    att_exponent_acc_map = tc.zeros((len(theta_ls), sample_height_n, sample_size_n, sample_size_n+1), device=dev)\n",
    "    for i , theta in enumerate(theta_ls):\n",
    "        theta = tc.tensor(theta,  device=dev)\n",
    "        concentration_map_rot = rotate(grid_concentration, theta, dev)\n",
    "        for j in range(n_element):\n",
    "            lac_single = concentration_map_rot[j] * probe_attCS_ls[j]\n",
    "            lac_acc = tc.cumsum(lac_single, axis=2)\n",
    "            lac_acc = tc.cat((tc.zeros((sample_height_n, sample_size_n, 1), device=dev), lac_acc), dim = 2)\n",
    "            att_exponent_acc = lac_acc * (sample_size_cm / sample_size_n) \n",
    "            att_exponent_acc_map[i,:,:,:] += att_exponent_acc\n",
    "\n",
    "    attenuation_map_flat = tc.exp(-(att_exponent_acc_map[:,:,:,:-1])).view(n_theta, sample_height_n * sample_size_n * sample_size_n).float().to(dev)\n",
    "    transmission = tc.exp(-att_exponent_acc_map[:,:,:,-1]).view(n_theta, sample_height_n * sample_size_n).float().to(dev)\n",
    "    \n",
    "    return attenuation_map_flat, transmission"
   ]
  },
  {
   "cell_type": "code",
   "execution_count": 7,
   "metadata": {},
   "outputs": [],
   "source": [
    "src_path = \"./data/sample8_size_64_pad/nElements_2/grid_concentration.npy\"\n",
    "theta_st = 0.\n",
    "theta_end = 2 * np.pi\n",
    "n_theta = 200\n",
    "sample_height_n = 64\n",
    "sample_size_n = 64\n",
    "sample_size_cm = 0.01\n",
    "this_aN_dic = {\"Ca\": 20, \"Sc\": 21}\n",
    "probe_energy = np.array([20.0])\n",
    "dev = \"cpu\""
   ]
  },
  {
   "cell_type": "code",
   "execution_count": 8,
   "metadata": {},
   "outputs": [
    {
     "name": "stderr",
     "output_type": "stream",
     "text": [
      "/home/hpphappy/anaconda3/envs/joint_XRF_XRT/lib/python3.7/site-packages/ipykernel_launcher.py:13: UserWarning: To copy construct from a tensor, it is recommended to use sourceTensor.clone().detach() or sourceTensor.clone().detach().requires_grad_(True), rather than torch.tensor(sourceTensor).\n",
      "  del sys.path[0]\n",
      "/home/hpphappy/anaconda3/envs/joint_XRF_XRT/lib/python3.7/site-packages/torch/nn/functional.py:3447: UserWarning: Default grid_sample and affine_grid behavior has changed to align_corners=False since 1.3.0. Please specify align_corners=True if the old behavior is desired. See the documentation of grid_sample for details.\n",
      "  warnings.warn(\"Default grid_sample and affine_grid behavior has changed \"\n",
      "/home/hpphappy/anaconda3/envs/joint_XRF_XRT/lib/python3.7/site-packages/torch/nn/functional.py:3384: UserWarning: Default grid_sample and affine_grid behavior has changed to align_corners=False since 1.3.0. Please specify align_corners=True if the old behavior is desired. See the documentation of grid_sample for details.\n",
      "  warnings.warn(\"Default grid_sample and affine_grid behavior has changed \"\n"
     ]
    }
   ],
   "source": [
    "attenuation_map_flat, transmission = attenuation_3d(src_path, theta_st, theta_end, n_theta, sample_height_n, sample_size_n,\n",
    "                                                    sample_size_cm, this_aN_dic, probe_energy, dev)"
   ]
  },
  {
   "cell_type": "code",
   "execution_count": null,
   "metadata": {},
   "outputs": [],
   "source": [
    "def create_XRT_data_3d(src_path, theta_st, theta_end, n_theta, sample_height_n, sample_size_n,\n",
    "                         sample_size_cm, this_aN_dic, probe_energy, probe_cts, save_path, save_fname, theta_sep, Poisson_noise, dev):\n",
    " \n",
    "    XRT_data = probe_cts * attenuation_3d(src_path, theta_st, theta_end, n_theta, sample_height_n, sample_size_n,\n",
    "                sample_size_cm, this_aN_dic, probe_energy, dev)[1]\n",
    "    \n",
    "    if Poisson_noise == True:\n",
    "        random_noise_generator = default_rng()\n",
    "        XRT_data = random_noise_generator.poisson(XRT_data)\n",
    "    \n",
    "    if not os.path.exists(save_path):\n",
    "        os.mkdir(save_path)\n",
    "    else:\n",
    "        pass    \n",
    "    \n",
    "    if theta_sep == True:       \n",
    "        for this_theta_idx in tqdm(range(n_theta)):\n",
    "            np.save(os.path.join(save_path, save_fname +'_{}'.format(this_theta_idx)), XRT_data[this_theta_idx])\n",
    "    \n",
    "    else:\n",
    "        np.save(os.path.join(save_path, save_fname), XRT_data.cpu())\n",
    "    \n",
    "    return XRT_data"
   ]
  },
  {
   "cell_type": "code",
   "execution_count": 16,
   "metadata": {},
   "outputs": [],
   "source": [
    "# with h5py.File(\"./data/P_array/sample_44_44_20/detSize_2.4_detSpacing_1.2_dpts_5/backup/Intersecting_Length_44_44_20.h5\", \"r\") as f:\n",
    "#     P_array_1 = f['P_array']\n",
    "\n",
    "# with h5py.File(\"./data/P_array/sample_5_5_5_n/detSize_2.4_detSpacing_1.2_dpts_5/Intersecting_Length_5_5_5.h5\", \"r\") as f:\n",
    "#     P_array_2 = f['P_array'][...]\n",
    "\n",
    "with h5py.File(\"./data/P_array/sample_44_44_20_n/Dis_0.05_detSize_2.4_manual_dpts_4/Intersecting_Length_44_44_20.h5\", \"r\") as f:\n",
    "    P_array_2 = f['P_array'][...]\n",
    "    "
   ]
  },
  {
   "cell_type": "code",
   "execution_count": 21,
   "metadata": {},
   "outputs": [
    {
     "name": "stdout",
     "output_type": "stream",
     "text": [
      "20331\n",
      "(44, 44)\n"
     ]
    },
    {
     "data": {
      "text/plain": [
       "<matplotlib.image.AxesImage at 0x7f11d9a17d90>"
      ]
     },
     "execution_count": 21,
     "metadata": {},
     "output_type": "execute_result"
    },
    {
     "data": {
      "image/png": "[encoded data removed]",
      "text/plain": [
       "<Figure size 432x288 with 1 Axes>"
      ]
     },
     "metadata": {
      "needs_background": "light"
     },
     "output_type": "display_data"
    }
   ],
   "source": [
    "n_dia = 78\n",
    "voxel_idx = 44 * 22 + 3 + 44*44*10\n",
    "print(voxel_idx)\n",
    "\n",
    "np.set_printoptions(threshold=sys.maxsize)\n",
    "\n",
    "sample = np.zeros(44*44*20)\n",
    "for det_idx in range(4):\n",
    "    source_voxel = P_array_2[det_idx, 0, voxel_idx*n_dia: (voxel_idx+1)*n_dia]\n",
    "    int_voxel = P_array_2[det_idx, 1, voxel_idx*n_dia: (voxel_idx+1)*n_dia]\n",
    "    int_length = P_array_2[det_idx, 2, voxel_idx*n_dia: (voxel_idx+1)*n_dia]\n",
    "   \n",
    "    sample[int_voxel.astype(np.int)] = int_length\n",
    "\n",
    "\n",
    "sample = np.reshape(sample, (20, 44, 44))\n",
    "sample_sum_0 = np.sum(sample, axis=0)\n",
    "print(sample_sum_0.shape)\n",
    "plt.imshow(sample_sum_0)"
   ]
  },
  {
   "cell_type": "code",
   "execution_count": 18,
   "metadata": {},
   "outputs": [
    {
     "name": "stdout",
     "output_type": "stream",
     "text": [
      "(20, 44)\n"
     ]
    },
    {
     "data": {
      "text/plain": [
       "<matplotlib.image.AxesImage at 0x7f11d9b3ce50>"
      ]
     },
     "execution_count": 18,
     "metadata": {},
     "output_type": "execute_result"
    },
    {
     "data": {
      "image/png": "[encoded data removed]",
      "text/plain": [
       "<Figure size 432x288 with 1 Axes>"
      ]
     },
     "metadata": {
      "needs_background": "light"
     },
     "output_type": "display_data"
    }
   ],
   "source": [
    "sample = np.reshape(sample, (20, 44, 44))\n",
    "sample_sum_0 = np.sum(sample, axis=1)\n",
    "print(sample_sum_0.shape)\n",
    "plt.imshow(sample_sum_0)"
   ]
  },
  {
   "cell_type": "code",
   "execution_count": 19,
   "metadata": {},
   "outputs": [
    {
     "name": "stdout",
     "output_type": "stream",
     "text": [
      "(20, 44)\n"
     ]
    },
    {
     "data": {
      "text/plain": [
       "<matplotlib.image.AxesImage at 0x7f11d9ab17d0>"
      ]
     },
     "execution_count": 19,
     "metadata": {},
     "output_type": "execute_result"
    },
    {
     "data": {
      "image/png": "[encoded data removed]",
      "text/plain": [
       "<Figure size 432x288 with 1 Axes>"
      ]
     },
     "metadata": {
      "needs_background": "light"
     },
     "output_type": "display_data"
    }
   ],
   "source": [
    "sample = np.reshape(sample, (20, 44, 44))\n",
    "sample_sum_0 = np.sum(sample, axis=2)\n",
    "print(sample_sum_0.shape)\n",
    "plt.imshow(sample_sum_0)"
   ]
  },
  {
   "cell_type": "code",
   "execution_count": 3,
   "metadata": {},
   "outputs": [
    {
     "name": "stdout",
     "output_type": "stream",
     "text": [
      "20350\n",
      "(44, 44)\n"
     ]
    },
    {
     "data": {
      "text/plain": [
       "<matplotlib.image.AxesImage at 0x7ff96796ef90>"
      ]
     },
     "execution_count": 3,
     "metadata": {},
     "output_type": "execute_result"
    },
    {
     "name": "stderr",
     "output_type": "stream",
     "text": [
      "findfont: Font family ['serif'] not found. Falling back to DejaVu Sans.\n"
     ]
    },
    {
     "data": {
      "image/png": "[encoded data removed]",
      "text/plain": [
       "<Figure size 432x288 with 1 Axes>"
      ]
     },
     "metadata": {
      "needs_background": "light"
     },
     "output_type": "display_data"
    }
   ],
   "source": [
    "n_dia = 78\n",
    "voxel_idx = 44 * 22 + 22 + 44*44*10\n",
    "print(voxel_idx)\n",
    "det_idx = 2\n",
    "\n",
    "np.set_printoptions(threshold=sys.maxsize)\n",
    "\n",
    "source_voxel = P_array_2[det_idx, 0, voxel_idx*n_dia: (voxel_idx+1)*n_dia]\n",
    "int_voxel = P_array_2[det_idx, 1, voxel_idx*n_dia: (voxel_idx+1)*n_dia]\n",
    "int_length = P_array_2[det_idx, 2, voxel_idx*n_dia: (voxel_idx+1)*n_dia]\n",
    "\n",
    "# print(source_voxel)\n",
    "# print(int_voxel)\n",
    "# print(int_length)\n",
    "\n",
    "sample = np.zeros(44*44*20)\n",
    "sample[int_voxel.astype(np.int)] = int_length\n",
    "\n",
    "sample = np.reshape(sample, (20, 44, 44))\n",
    "sample_sum_0 = np.sum(sample, axis=0)\n",
    "print(sample_sum_0.shape)\n",
    "plt.imshow(sample_sum_0)"
   ]
  },
  {
   "cell_type": "code",
   "execution_count": 191,
   "metadata": {
    "collapsed": true,
    "jupyter": {
     "outputs_hidden": true
    }
   },
   "outputs": [
    {
     "data": {
      "text/plain": [
       "<matplotlib.image.AxesImage at 0x7fb0b2e0da10>"
      ]
     },
     "execution_count": 191,
     "metadata": {},
     "output_type": "execute_result"
    },
    {
     "data": {
      "image/png": "[encoded data removed]",
      "text/plain": [
       "<Figure size 432x288 with 1 Axes>"
      ]
     },
     "metadata": {
      "needs_background": "light"
     },
     "output_type": "display_data"
    }
   ],
   "source": [
    "sample_sum_1 = np.sum(sample, axis=1)\n",
    "plt.imshow(sample_sum_1)"
   ]
  },
  {
   "cell_type": "code",
   "execution_count": 180,
   "metadata": {
    "collapsed": true,
    "jupyter": {
     "outputs_hidden": true
    }
   },
   "outputs": [
    {
     "name": "stdout",
     "output_type": "stream",
     "text": [
      "990\n",
      "(44, 44)\n"
     ]
    },
    {
     "data": {
      "text/plain": [
       "<matplotlib.image.AxesImage at 0x7fb0b32049d0>"
      ]
     },
     "execution_count": 180,
     "metadata": {},
     "output_type": "execute_result"
    },
    {
     "data": {
      "image/png": "[encoded data removed]",
      "text/plain": [
       "<Figure size 432x288 with 1 Axes>"
      ]
     },
     "metadata": {
      "needs_background": "light"
     },
     "output_type": "display_data"
    }
   ],
   "source": [
    "n_dia = 71\n",
    "voxel_idx = 44 * 22 + 22 + 44*44*0\n",
    "# voxel_idx = 5\n",
    "\n",
    "print(voxel_idx)\n",
    "det_idx = 1\n",
    "\n",
    "np.set_printoptions(threshold=sys.maxsize)\n",
    "source_voxel = P_array_2[det_idx, 0, voxel_idx*n_dia: (voxel_idx+1)*n_dia]\n",
    "int_voxel = P_array_2[det_idx, 1, voxel_idx*n_dia: (voxel_idx+1)*n_dia]\n",
    "int_length = P_array_2[det_idx, 2, voxel_idx*n_dia: (voxel_idx+1)*n_dia]\n",
    "\n",
    "# print(source_voxel)\n",
    "# print(int_voxel)\n",
    "# print(int_length)\n",
    "\n",
    "sample = np.zeros(44*44*20)\n",
    "sample[int_voxel.astype(np.int)] = int_length\n",
    "\n",
    "sample = np.reshape(sample, (20, 44, 44))\n",
    "sample_sum_0 = np.sum(sample, axis=0)\n",
    "print(sample_sum_0.shape)\n",
    "plt.imshow(sample_sum_0)"
   ]
  },
  {
   "cell_type": "code",
   "execution_count": 170,
   "metadata": {},
   "outputs": [
    {
     "name": "stdout",
     "output_type": "stream",
     "text": [
      "990\n",
      "(44, 44)\n"
     ]
    },
    {
     "data": {
      "text/plain": [
       "<matplotlib.image.AxesImage at 0x7fb0b34517d0>"
      ]
     },
     "execution_count": 170,
     "metadata": {},
     "output_type": "execute_result"
    },
    {
     "data": {
      "image/png": "[encoded data removed]",
      "text/plain": [
       "<Figure size 432x288 with 1 Axes>"
      ]
     },
     "metadata": {
      "needs_background": "light"
     },
     "output_type": "display_data"
    }
   ],
   "source": [
    "n_dia = 71\n",
    "voxel_idx = 44 * 22 + 22 + 44*44*0\n",
    "# voxel_idx = 5\n",
    "\n",
    "print(voxel_idx)\n",
    "det_idx = 1\n",
    "\n",
    "np.set_printoptions(threshold=sys.maxsize)\n",
    "source_voxel = P_array_2[det_idx, 0, voxel_idx*n_dia: (voxel_idx+1)*n_dia]\n",
    "int_voxel = P_array_2[det_idx, 1, voxel_idx*n_dia: (voxel_idx+1)*n_dia]\n",
    "int_length = P_array_2[det_idx, 2, voxel_idx*n_dia: (voxel_idx+1)*n_dia]\n",
    "\n",
    "# print(source_voxel)\n",
    "# print(int_voxel)\n",
    "# print(int_length)\n",
    "\n",
    "sample_2 = np.zeros(44*44*20)\n",
    "sample_2[int_voxel.astype(np.int)] = int_length\n",
    "\n",
    "sample_2 = np.reshape(sample_2, (20, 44, 44))\n",
    "sample_sum_0_2 = np.sum(sample_2, axis=0) + sample_sum_0\n",
    "print(sample_sum_0_2.shape)\n",
    "plt.imshow(sample_sum_0_2)"
   ]
  },
  {
   "cell_type": "code",
   "execution_count": 124,
   "metadata": {},
   "outputs": [
    {
     "name": "stdout",
     "output_type": "stream",
     "text": [
      "[1. 0. 3. 0. 5.]\n"
     ]
    }
   ],
   "source": [
    "a = np.zeros(5)\n",
    "b = np.array([1,3,5])\n",
    "pos = np.array([0,2,4])\n",
    "a[pos] = b\n",
    "print(a)"
   ]
  },
  {
   "cell_type": "code",
   "execution_count": null,
   "metadata": {},
   "outputs": [],
   "source": []
  },
  {
   "cell_type": "code",
   "execution_count": 171,
   "metadata": {},
   "outputs": [
    {
     "data": {
      "text/plain": [
       "array([[0.1, 0.1, 0.1, 0.1],\n",
       "       [0.1, 0.1, 0.1, 0.1],\n",
       "       [0.1, 0.1, 0.1, 0.1]])"
      ]
     },
     "execution_count": 171,
     "metadata": {},
     "output_type": "execute_result"
    }
   ],
   "source": [
    "a = np.ones((3,4))\n",
    "a * 0.1"
   ]
  },
  {
   "cell_type": "code",
   "execution_count": 5,
   "metadata": {},
   "outputs": [
    {
     "data": {
      "text/plain": [
       "tensor([2, 3, 4, 5, 6, 7, 8, 9])"
      ]
     },
     "execution_count": 5,
     "metadata": {},
     "output_type": "execute_result"
    }
   ],
   "source": [
    "tc.arange(2,10,1)"
   ]
  },
  {
   "cell_type": "code",
   "execution_count": 2,
   "metadata": {},
   "outputs": [],
   "source": [
    "def find_lines_roi_idx_from_dataset(data_path, f_XRF_data, element_lines_roi):\n",
    "    XRF_data = h5py.File(os.path.join(data_path, f_XRF_data), 'r')\n",
    "    channel_names = XRF_data['exchange/elements'][...]\n",
    "    channel_names = np.array([str(channel_name, 'utf-8') for channel_name in channel_names])\n",
    "\n",
    "    element_lines_roi_idx = np.zeros(len(element_lines_roi)).astype(np.int)\n",
    "    for i, element_line_roi in enumerate(element_lines_roi):\n",
    "        if element_line_roi[1] == \"K\":\n",
    "            channel_name_roi = element_line_roi[0]\n",
    "        else:\n",
    "            channel_name_roi = element_line_roi[0] + \"_\" + element_line_roi[1]\n",
    "        element_line_idx = np.argwhere(channel_names == channel_name_roi)\n",
    "        element_lines_roi_idx[i] = element_line_idx\n",
    "        \n",
    "    XRF_data.close()\n",
    "    return element_lines_roi_idx  "
   ]
  },
  {
   "cell_type": "code",
   "execution_count": 3,
   "metadata": {},
   "outputs": [],
   "source": [
    "data_path = './data/Xtal1_align1_adjusted1_ds4'    # the folder where the data file is in\n",
    "f_XRF_data = 'xtal1_xrf-roi-plus'    # the aligned channel data file output from XRFtomo \n",
    "element_lines_roi = np.array([['Al', 'K'], ['Si', 'K'], ['Fe', 'K'], ['Cu', 'K']])"
   ]
  },
  {
   "cell_type": "code",
   "execution_count": 4,
   "metadata": {},
   "outputs": [
    {
     "data": {
      "text/plain": [
       "array([ 0,  1, 11, 14])"
      ]
     },
     "execution_count": 4,
     "metadata": {},
     "output_type": "execute_result"
    }
   ],
   "source": [
    "find_lines_roi_idx_from_dataset(data_path, f_XRF_data, element_lines_roi)"
   ]
  },
  {
   "cell_type": "code",
   "execution_count": 2,
   "metadata": {},
   "outputs": [
    {
     "name": "stdout",
     "output_type": "stream",
     "text": [
      "torch.Size([2, 12])\n"
     ]
    }
   ],
   "source": [
    "a = [tc.ones(2,6), tc.ones(2,6)]\n",
    "d = tc.cat(a, axis=-1)\n",
    "print(d.shape)"
   ]
  },
  {
   "cell_type": "code",
   "execution_count": null,
   "metadata": {},
   "outputs": [],
   "source": []
  }
 ],
 "metadata": {
  "kernelspec": {
   "display_name": "Python 3 (ipykernel)",
   "language": "python",
   "name": "python3"
  },
  "language_info": {
   "codemirror_mode": {
    "name": "ipython",
    "version": 3
   },
   "file_extension": ".py",
   "mimetype": "text/x-python",
   "name": "python",
   "nbconvert_exporter": "python",
   "pygments_lexer": "ipython3",
   "version": "3.9.6"
  }
 },
 "nbformat": 4,
 "nbformat_minor": 4
}
