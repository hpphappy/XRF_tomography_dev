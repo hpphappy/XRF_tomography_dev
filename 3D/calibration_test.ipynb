{
 "cells": [
  {
   "cell_type": "code",
   "execution_count": 1,
   "id": "czech-affiliation",
   "metadata": {},
   "outputs": [],
   "source": [
    "import os\n",
    "import numpy as np\n",
    "import h5py\n",
    "import xraylib as xlib\n",
    "import xraylib_np as xlib_np"
   ]
  },
  {
   "cell_type": "code",
   "execution_count": 2,
   "id": "written-preliminary",
   "metadata": {},
   "outputs": [],
   "source": [
    "from data_generation_fns_mpi_updating_realData import find_lines_roi_idx_from_dataset\n",
    "from Atomic_number import AN"
   ]
  },
  {
   "cell_type": "code",
   "execution_count": 3,
   "id": "employed-nation",
   "metadata": {},
   "outputs": [],
   "source": [
    "std_path = './data/Xtal1/axo_std'\n",
    "f_std = 'axo_std.h5'\n",
    "probe_energy = np.array([10.0])\n",
    "std_element_lines_roi = np.array([['Ca', 'K'], ['Fe', 'K'], ['Cu', 'K']])\n",
    "fitting_method = 'XRF_roi_plus'\n",
    "density_std_elements = np.array([1.931, 0.504, 0.284])*1.0E-6 \n",
    "fl = {\"K\": np.array([xlib.KA1_LINE, xlib.KA2_LINE, xlib.KA3_LINE, xlib.KB1_LINE, xlib.KB2_LINE,\n",
    "                 xlib.KB3_LINE, xlib.KB4_LINE, xlib.KB5_LINE]),\n",
    "      \"L\": np.array([xlib.LA1_LINE, xlib.LA2_LINE, xlib.LB1_LINE, xlib.LB2_LINE, xlib.LB3_LINE,\n",
    "                 xlib.LB4_LINE, xlib.LB5_LINE, xlib.LB6_LINE, xlib.LB7_LINE, xlib.LB9_LINE,\n",
    "                 xlib.LB10_LINE, xlib.LB15_LINE, xlib.LB17_LINE]),              \n",
    "      \"M\": np.array([xlib.MA1_LINE, xlib.MA2_LINE, xlib.MB_LINE])               \n",
    "     }"
   ]
  },
  {
   "cell_type": "code",
   "execution_count": 4,
   "id": "german-embassy",
   "metadata": {},
   "outputs": [
    {
     "name": "stdout",
     "output_type": "stream",
     "text": [
      "11217926.84970311\n"
     ]
    }
   ],
   "source": [
    "with h5py.File(os.path.join(std_path, f_std), \"r\") as f:\n",
    "    dset_XRF = f[os.path.join(\"MAPS\", fitting_method)][...]  \n",
    "    \n",
    "std_element_idx = find_lines_roi_idx_from_dataset(std_path, f_std, std_element_lines_roi, std_sample=True)   \n",
    "    \n",
    "XRF_pcs_sum = np.zeros((std_element_lines_roi.shape[0]))\n",
    "for i, element_line in enumerate(std_element_lines_roi):\n",
    "    XRF_pcs = np.squeeze(xlib_np.CS_FluorLine_Kissel_Cascade(np.array([AN[element_line[0]]]), fl[element_line[1]], probe_energy))\n",
    "    XRF_pcs_sum[i] = np.sum(XRF_pcs)\n",
    "\n",
    "std_XRF_count = dset_XRF[std_element_idx]\n",
    "std_XRF_count = np.reshape(std_XRF_count, (std_XRF_count.shape[0], std_XRF_count.shape[1]*std_XRF_count.shape[2]))\n",
    "I_i_ave = np.average(std_XRF_count, axis=1) \n",
    "I_0_cal = I_i_ave/(XRF_pcs_sum*density_std_elements)\n",
    "I_0_cal_ave = np.average(I_0_cal)\n",
    "print(I_0_cal_ave)"
   ]
  },
  {
   "cell_type": "code",
   "execution_count": 4,
   "id": "intensive-establishment",
   "metadata": {},
   "outputs": [],
   "source": [
    "def calibrate_incident_probe_intensity(std_path, f_std, fitting_method, std_element_lines_roi, probe_energy):\n",
    "    \n",
    "    XRF_pcs_sum = np.zeros((std_element_lines_roi.shape[0]))\n",
    "    for i, element_line in enumerate(std_element_lines_roi):\n",
    "        XRF_pcs = np.squeeze(xlib_np.CS_FluorLine_Kissel_Cascade(np.array([AN[element_line[0]]]), fl[element_line[1]], probe_energy))\n",
    "        XRF_pcs_sum[i] = np.sum(XRF_pcs)\n",
    "        \n",
    "    with h5py.File(os.path.join(std_path, f_std), \"r\") as f:\n",
    "        dset_XRF = f[os.path.join(\"MAPS\", fitting_method)][...]  \n",
    "\n",
    "    std_element_idx = find_lines_roi_idx_from_dataset(std_path, f_std, std_element_lines_roi, std_sample=True)   \n",
    "    std_XRF_count = dset_XRF[std_element_idx]\n",
    "    std_XRF_count = np.reshape(std_XRF_count, (std_XRF_count.shape[0], std_XRF_count.shape[1]*std_XRF_count.shape[2]))\n",
    "    I_i_ave = np.average(std_XRF_count, axis=1) \n",
    "    I_0_cal = I_i_ave/(XRF_pcs_sum*density_std_elements)\n",
    "    I_0_cal_ave = np.average(I_0_cal)\n",
    "\n",
    "    return I_0_cal_ave"
   ]
  },
  {
   "cell_type": "code",
   "execution_count": 5,
   "id": "lesser-escape",
   "metadata": {},
   "outputs": [
    {
     "name": "stdout",
     "output_type": "stream",
     "text": [
      "11217926.84970311\n"
     ]
    }
   ],
   "source": [
    "probe_intensity = calibrate_incident_probe_intensity(std_path, f_std, fitting_method, std_element_lines_roi, probe_energy)\n",
    "print(probe_intensity)"
   ]
  },
  {
   "cell_type": "code",
   "execution_count": null,
   "id": "mineral-waste",
   "metadata": {},
   "outputs": [],
   "source": []
  }
 ],
 "metadata": {
  "kernelspec": {
   "display_name": "Python 3 (ipykernel)",
   "language": "python",
   "name": "python3"
  },
  "language_info": {
   "codemirror_mode": {
    "name": "ipython",
    "version": 3
   },
   "file_extension": ".py",
   "mimetype": "text/x-python",
   "name": "python",
   "nbconvert_exporter": "python",
   "pygments_lexer": "ipython3",
   "version": "3.9.6"
  }
 },
 "nbformat": 4,
 "nbformat_minor": 5
}
