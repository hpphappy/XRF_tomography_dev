{
 "cells": [
  {
   "cell_type": "code",
   "execution_count": 6,
   "id": "c2272b5c-3a9e-41d2-9e84-6ab295453464",
   "metadata": {},
   "outputs": [],
   "source": [
    "import numpy as np\n",
    "import h5py"
   ]
  },
  {
   "cell_type": "code",
   "execution_count": 7,
   "id": "6b5218b8-eed3-4a48-bda2-2984edb667d7",
   "metadata": {},
   "outputs": [],
   "source": [
    "gt = np.load(\"grid_concentration.npy\")"
   ]
  },
  {
   "cell_type": "code",
   "execution_count": 9,
   "id": "52cdd3ef-c515-42ee-ba42-c79423a10435",
   "metadata": {},
   "outputs": [],
   "source": [
    "with h5py.File(\"grid_concentration.h5\", \"w\") as s:\n",
    "    sample = s.create_group(\"sample\")\n",
    "    sample_v = sample.create_dataset(\"densities\", shape=(gt.shape), dtype=\"f4\")\n",
    "    sample_e = sample.create_dataset(\"elements\", shape=(gt.shape[0],), dtype='S5')\n",
    "    s[\"sample/densities\"][...] = gt\n",
    "    s[\"sample/elements\"][...] = np.array([\"Ca\", \"Sc\"]).astype('S5')"
   ]
  }
 ],
 "metadata": {
  "kernelspec": {
   "display_name": "Python 3 (ipykernel)",
   "language": "python",
   "name": "python3"
  },
  "language_info": {
   "codemirror_mode": {
    "name": "ipython",
    "version": 3
   },
   "file_extension": ".py",
   "mimetype": "text/x-python",
   "name": "python",
   "nbconvert_exporter": "python",
   "pygments_lexer": "ipython3",
   "version": "3.9.6"
  }
 },
 "nbformat": 4,
 "nbformat_minor": 5
}
